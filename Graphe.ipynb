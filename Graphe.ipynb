{
 "cells": [
  {
   "cell_type": "code",
   "execution_count": 204,
   "metadata": {},
   "outputs": [],
   "source": [
    "import pandas as pd\n",
    "import numpy as np"
   ]
  },
  {
   "cell_type": "code",
   "execution_count": 205,
   "metadata": {},
   "outputs": [],
   "source": [
    "#Lire l'onlet df4 du fichier excel\n",
    "df = pd.read_excel(r'C:/Users/Bromo/Documents/Leboncoin/Salim/graphe/df1.xlsm',sheet_name='df4')\n",
    "#Definir le nom du fichier excel qui va etre créée\n",
    "file_output = \"Report1.xlsx\"\n",
    "#Definir le nom\n",
    "onglet_name =\"Salim\"\n",
    "#Creer le workbook avec l'engine \n",
    "writer = pd.ExcelWriter(file_output, engine='xlsxwriter')\n"
   ]
  },
  {
   "cell_type": "code",
   "execution_count": 206,
   "metadata": {
    "scrolled": true
   },
   "outputs": [],
   "source": [
    "#Crééer un tableau qui va etre envoyé sur excel\n",
    "df_1 = df.groupby(['Pays']).agg({'Montant':'sum'})\n",
    "#Envoyer le tableau sur l'onglet commencant à la ligne 5 et sur la colonne 5\n",
    "df_1.to_excel(writer, sheet_name = onglet_name, startrow = 5,startcol = 5)\n",
    "\n"
   ]
  },
  {
   "cell_type": "code",
   "execution_count": 207,
   "metadata": {},
   "outputs": [],
   "source": [
    "#Recuperer le nombre de row du tableau\n",
    "row = len(df_1)\n",
    "#Creer un dataframe exemple 'par exemple tout les elements dont le pays = mali'\n",
    "df_mali = df.loc[df['Pays'] == \"Mali\"]\n",
    "#Envoyer sur exc à la positio (ligne 10 en dessous du graphe precedent  et toujours à la colonne 5\n",
    "df_mali.to_excel(writer, sheet_name = onglet_name, startrow = row +10 ,startcol = 5)"
   ]
  },
  {
   "cell_type": "code",
   "execution_count": 208,
   "metadata": {
    "scrolled": true
   },
   "outputs": [],
   "source": [
    "#Mettre un graphe à droite\n",
    "#Recuperer le nombre de colonne de la precedebnte\n",
    "col = len(df.columns)\n",
    "#Creer un dataframe exemple 'par exemple tout les elements dont le pays = maroc'\n",
    "df_maroc = df.loc[df['Pays'] == \"Maroc\"]\n",
    "#Envoyer sur exc à la positio (A la meme ligne que la precedente et toujours 10 colonne à gauche\n",
    "df_maroc.to_excel(writer, sheet_name = onglet_name, startrow = row +10 , startcol = col +10)"
   ]
  },
  {
   "cell_type": "code",
   "execution_count": 209,
   "metadata": {},
   "outputs": [],
   "source": [
    "df_1.to_excel(writer, sheet_name = \"GroupBy\", startrow = 10 , startcol = 10)\n"
   ]
  },
  {
   "cell_type": "code",
   "execution_count": 210,
   "metadata": {},
   "outputs": [],
   "source": [
    "#Graphe"
   ]
  },
  {
   "cell_type": "code",
   "execution_count": 211,
   "metadata": {},
   "outputs": [
    {
     "data": {
      "text/plain": [
       "0"
      ]
     },
     "execution_count": 211,
     "metadata": {},
     "output_type": "execute_result"
    }
   ],
   "source": [
    "#Creer un onglet GroupeBy\n",
    "workbook  = writer.book\n",
    "worksheet = writer.sheets['GroupBy']\n",
    "\n",
    "# Créer un graphe de type \"Bar\"\n",
    "chart = workbook.add_chart({'type': 'column'})\n",
    "\n",
    "# Configurer la series (value = ordonne, categories = abscicess)\n",
    "chart.add_series({\n",
    "        'values': '=GroupBy!$L$11:$L$16',\n",
    "        'categories': '=GroupBy!$K$11:$K$16',\n",
    "        })\n",
    "\n",
    "# Inserer le graphe en commant par la cellule K20\n",
    "worksheet.insert_chart('K20', chart)\n",
    "\n",
    "# Creée un graphe de type ligne\n",
    "chart2 = workbook.add_chart({'type': 'line'})\n",
    "\n",
    "# Configurer la series (value = ordonne, categories = abscisse)\n",
    "chart2.add_series({\n",
    "    'values': '=GroupBy!$L$11:$L$16',\n",
    "    'categories': '=GroupBy!$K$11:$K$16',\n",
    "    }\n",
    ")\n",
    "\n",
    "# Inserer le graphe en commençant par la cellule S2\n",
    "worksheet.insert_chart('S2', chart2)\n",
    "\n",
    "format1 = workbook.add_format({'num_format': '#,##0.00'})\n",
    "worksheet = writer.sheets[onglet_name]\n",
    "worksheet.set_column('G1:G13', 18, format1)  #Mettre le bon format\n",
    "\n",
    "format2 = workbook.add_format({'num_format': '0%'})\n",
    "worksheet.set_column('H17:I21', 18, format2)  #Mettre le bon format\n"
   ]
  },
  {
   "cell_type": "code",
   "execution_count": null,
   "metadata": {},
   "outputs": [],
   "source": []
  },
  {
   "cell_type": "code",
   "execution_count": null,
   "metadata": {},
   "outputs": [],
   "source": []
  },
  {
   "cell_type": "code",
   "execution_count": null,
   "metadata": {},
   "outputs": [],
   "source": []
  },
  {
   "cell_type": "code",
   "execution_count": 212,
   "metadata": {},
   "outputs": [],
   "source": [
    "writer.save()"
   ]
  },
  {
   "cell_type": "code",
   "execution_count": null,
   "metadata": {},
   "outputs": [],
   "source": []
  },
  {
   "cell_type": "code",
   "execution_count": null,
   "metadata": {},
   "outputs": [],
   "source": []
  },
  {
   "cell_type": "code",
   "execution_count": null,
   "metadata": {},
   "outputs": [],
   "source": []
  },
  {
   "cell_type": "code",
   "execution_count": null,
   "metadata": {},
   "outputs": [],
   "source": []
  },
  {
   "cell_type": "code",
   "execution_count": null,
   "metadata": {},
   "outputs": [],
   "source": []
  }
 ],
 "metadata": {
  "kernelspec": {
   "display_name": "Python 3",
   "language": "python",
   "name": "python3"
  },
  "language_info": {
   "codemirror_mode": {
    "name": "ipython",
    "version": 3
   },
   "file_extension": ".py",
   "mimetype": "text/x-python",
   "name": "python",
   "nbconvert_exporter": "python",
   "pygments_lexer": "ipython3",
   "version": "3.7.7"
  }
 },
 "nbformat": 4,
 "nbformat_minor": 4
}
